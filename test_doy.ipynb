{
 "cells": [
  {
   "cell_type": "code",
   "execution_count": 16,
   "id": "cf454a68",
   "metadata": {},
   "outputs": [],
   "source": [
    "from dataloader.FireSpreadDataset import FireSpreadDataset\n",
    "\n",
    "dataset_with_doy = FireSpreadDataset(\n",
    "    data_dir=\"/Users/sameeps/Documents/Dr-Malof/WIldfire/WildfireSpreadTS/Data/WIldfireSpreadTS_HDF5\",\n",
    "    included_fire_years=[2019],\n",
    "    n_leading_observations=5,\n",
    "    crop_side_length=128,\n",
    "    load_from_hdf5=True,\n",
    "    is_train=False,\n",
    "    remove_duplicate_features=False,\n",
    "    stats_years=(2018, 2020),\n",
    "    return_doy=True  # ✅ get day-of-year\n",
    ")\n"
   ]
  },
  {
   "cell_type": "code",
   "execution_count": 17,
   "id": "a7992fc8",
   "metadata": {},
   "outputs": [],
   "source": [
    "from dataloader.FireSpreadDataset import FireSpreadDataset\n",
    "\n",
    "dataset_without_doy = FireSpreadDataset(\n",
    "    data_dir=\"/Users/sameeps/Documents/Dr-Malof/WIldfire/WildfireSpreadTS/Data/WIldfireSpreadTS_HDF5\",\n",
    "    included_fire_years=[2019],\n",
    "    n_leading_observations=5,\n",
    "    crop_side_length=128,\n",
    "    load_from_hdf5=True,\n",
    "    is_train=False,\n",
    "    remove_duplicate_features=False,\n",
    "    stats_years=(2018, 2020),\n",
    "    return_doy=False # ✅ get day-of-year\n",
    ")\n"
   ]
  },
  {
   "cell_type": "code",
   "execution_count": 18,
   "id": "a7c1e0b3",
   "metadata": {},
   "outputs": [
    {
     "name": "stdout",
     "output_type": "stream",
     "text": [
      "Sample with DOY: tensor([66., 67., 68., 69., 70.])\n",
      "Shape without DOY: torch.Size([5, 40, 128, 128])\n"
     ]
    }
   ],
   "source": [
    "# Dataset with DOY\n",
    "x1, y1, doys1 = dataset_with_doy[0]\n",
    "print(\"Sample with DOY:\", doys1)\n",
    "\n",
    "# Dataset without DOY just gives x,y\n",
    "x2, y2 = dataset_without_doy[0]\n",
    "print(\"Shape without DOY:\", x2.shape)\n"
   ]
  },
  {
   "cell_type": "code",
   "execution_count": 15,
   "id": "d6459ad8",
   "metadata": {},
   "outputs": [
    {
     "name": "stderr",
     "output_type": "stream",
     "text": [
      "Downloading: \"https://download.pytorch.org/models/resnet18-5c106cde.pth\" to /Users/sameeps/.cache/torch/hub/checkpoints/resnet18-5c106cde.pth\n",
      "100%|██████████| 44.7M/44.7M [00:04<00:00, 11.1MB/s]\n"
     ]
    },
    {
     "name": "stdout",
     "output_type": "stream",
     "text": [
      "Loaded resnet18 with imagenet weights + LTAE\n",
      "Loaded resnet18 with imagenet weights + LTAE\n",
      "🚀 Mean absolute diff between DOY vs no DOY: 1.067734\n"
     ]
    }
   ],
   "source": [
    "from models.SMPTempModel import SMPTempModel\n",
    "\n",
    "model_with_doy = SMPTempModel(\n",
    "    encoder_name=\"resnet18\",\n",
    "    n_channels=x1.shape[1], \n",
    "    flatten_temporal_dimension=False,\n",
    "    pos_class_weight=1.0,\n",
    "    encoder_weights=\"imagenet\",\n",
    "    loss_function=\"Dice\",  # ✅ required!\n",
    "    use_doy=True\n",
    ")\n",
    "\n",
    "\n",
    "model_no_doy = SMPTempModel(\n",
    "    encoder_name=\"resnet18\",\n",
    "    n_channels=x1.shape[1],\n",
    "    flatten_temporal_dimension=False,\n",
    "    pos_class_weight=1.0,\n",
    "    encoder_weights=\"imagenet\",\n",
    "    loss_function=\"Dice\",  # ✅\n",
    "    use_doy=False\n",
    ")\n",
    "\n",
    "\n",
    "# (B, T, C, H, W) inputs\n",
    "x1_batched = x1.unsqueeze(0)\n",
    "doys1_batched = doys1.unsqueeze(0)\n",
    "\n",
    "# Run through both models\n",
    "out_with_doy = model_with_doy(x1_batched, doys1_batched)\n",
    "out_no_doy = model_no_doy(x1_batched, doys1_batched)\n",
    "\n",
    "diff = torch.mean(torch.abs(out_with_doy - out_no_doy)).item()\n",
    "print(f\"🚀 Mean absolute diff between DOY vs no DOY: {diff:.6f}\")\n"
   ]
  },
  {
   "cell_type": "code",
   "execution_count": null,
   "id": "0a13a47a",
   "metadata": {},
   "outputs": [],
   "source": []
  }
 ],
 "metadata": {
  "kernelspec": {
   "display_name": "wildfire_env",
   "language": "python",
   "name": "python3"
  },
  "language_info": {
   "codemirror_mode": {
    "name": "ipython",
    "version": 3
   },
   "file_extension": ".py",
   "mimetype": "text/x-python",
   "name": "python",
   "nbconvert_exporter": "python",
   "pygments_lexer": "ipython3",
   "version": "3.10.18"
  }
 },
 "nbformat": 4,
 "nbformat_minor": 5
}
